{
 "cells": [
  {
   "cell_type": "code",
   "execution_count": 36,
   "id": "35ce327e-d79e-4197-8526-451871fad105",
   "metadata": {},
   "outputs": [],
   "source": [
    "import sys, os\n",
    "\n",
    "# Add src directory to Python path\n",
    "sys.path.append(os.path.abspath(\"../src\"))\n",
    "\n",
    "from utils import preprocess_maf, load_maf, save_plot\n",
    "import pandas as pd\n",
    "\n",
    "\n",
    "# Load raw MAF file\n",
    "maf_raw = load_maf(\"../data/cohortMAF.2025-07-11.maf\")\n",
    "\n",
    "# Preprocess to remove silent mutations, etc.\n",
    "maf = preprocess_maf(maf_raw)\n"
   ]
  },
  {
   "cell_type": "code",
   "execution_count": 3,
   "id": "362b198c-3962-4644-80f8-2335ffbf6101",
   "metadata": {},
   "outputs": [
    {
     "data": {
      "text/html": [
       "<div>\n",
       "<style scoped>\n",
       "    .dataframe tbody tr th:only-of-type {\n",
       "        vertical-align: middle;\n",
       "    }\n",
       "\n",
       "    .dataframe tbody tr th {\n",
       "        vertical-align: top;\n",
       "    }\n",
       "\n",
       "    .dataframe thead th {\n",
       "        text-align: right;\n",
       "    }\n",
       "</style>\n",
       "<table border=\"1\" class=\"dataframe\">\n",
       "  <thead>\n",
       "    <tr style=\"text-align: right;\">\n",
       "      <th>Hugo_Symbol</th>\n",
       "      <th>A1BG</th>\n",
       "      <th>A1CF</th>\n",
       "      <th>A2M</th>\n",
       "      <th>A2ML1</th>\n",
       "      <th>A4GALT</th>\n",
       "      <th>AAAS</th>\n",
       "      <th>AACS</th>\n",
       "      <th>AADAC</th>\n",
       "      <th>AADACL2</th>\n",
       "      <th>AADACL3</th>\n",
       "      <th>...</th>\n",
       "      <th>ZUP1</th>\n",
       "      <th>ZW10</th>\n",
       "      <th>ZWILCH</th>\n",
       "      <th>ZWINT</th>\n",
       "      <th>ZXDA</th>\n",
       "      <th>ZXDB</th>\n",
       "      <th>ZXDC</th>\n",
       "      <th>ZYG11B</th>\n",
       "      <th>ZZEF1</th>\n",
       "      <th>ZZZ3</th>\n",
       "    </tr>\n",
       "    <tr>\n",
       "      <th>Tumor_Sample_Barcode</th>\n",
       "      <th></th>\n",
       "      <th></th>\n",
       "      <th></th>\n",
       "      <th></th>\n",
       "      <th></th>\n",
       "      <th></th>\n",
       "      <th></th>\n",
       "      <th></th>\n",
       "      <th></th>\n",
       "      <th></th>\n",
       "      <th></th>\n",
       "      <th></th>\n",
       "      <th></th>\n",
       "      <th></th>\n",
       "      <th></th>\n",
       "      <th></th>\n",
       "      <th></th>\n",
       "      <th></th>\n",
       "      <th></th>\n",
       "      <th></th>\n",
       "      <th></th>\n",
       "    </tr>\n",
       "  </thead>\n",
       "  <tbody>\n",
       "    <tr>\n",
       "      <th>358296ad-e2a7-40cd-849e-8590fd_D6_1</th>\n",
       "      <td>0.0</td>\n",
       "      <td>0.0</td>\n",
       "      <td>0.0</td>\n",
       "      <td>0.0</td>\n",
       "      <td>0.0</td>\n",
       "      <td>0.0</td>\n",
       "      <td>0.0</td>\n",
       "      <td>0.0</td>\n",
       "      <td>0.0</td>\n",
       "      <td>0.0</td>\n",
       "      <td>...</td>\n",
       "      <td>0.0</td>\n",
       "      <td>0.0</td>\n",
       "      <td>0.0</td>\n",
       "      <td>0.0</td>\n",
       "      <td>0.0</td>\n",
       "      <td>0.0</td>\n",
       "      <td>0.0</td>\n",
       "      <td>0.0</td>\n",
       "      <td>0.0</td>\n",
       "      <td>0.0</td>\n",
       "    </tr>\n",
       "    <tr>\n",
       "      <th>48d1b543-dbf6-4594-b34a-d0e30a_D6</th>\n",
       "      <td>0.0</td>\n",
       "      <td>0.0</td>\n",
       "      <td>0.0</td>\n",
       "      <td>0.0</td>\n",
       "      <td>0.0</td>\n",
       "      <td>0.0</td>\n",
       "      <td>0.0</td>\n",
       "      <td>0.0</td>\n",
       "      <td>0.0</td>\n",
       "      <td>0.0</td>\n",
       "      <td>...</td>\n",
       "      <td>0.0</td>\n",
       "      <td>0.0</td>\n",
       "      <td>0.0</td>\n",
       "      <td>0.0</td>\n",
       "      <td>0.0</td>\n",
       "      <td>0.0</td>\n",
       "      <td>0.0</td>\n",
       "      <td>0.0</td>\n",
       "      <td>0.0</td>\n",
       "      <td>0.0</td>\n",
       "    </tr>\n",
       "    <tr>\n",
       "      <th>TCGA-3C-AAAU-01A-11D-A41F-09</th>\n",
       "      <td>0.0</td>\n",
       "      <td>0.0</td>\n",
       "      <td>0.0</td>\n",
       "      <td>0.0</td>\n",
       "      <td>0.0</td>\n",
       "      <td>0.0</td>\n",
       "      <td>0.0</td>\n",
       "      <td>0.0</td>\n",
       "      <td>0.0</td>\n",
       "      <td>0.0</td>\n",
       "      <td>...</td>\n",
       "      <td>0.0</td>\n",
       "      <td>0.0</td>\n",
       "      <td>0.0</td>\n",
       "      <td>0.0</td>\n",
       "      <td>0.0</td>\n",
       "      <td>0.0</td>\n",
       "      <td>0.0</td>\n",
       "      <td>0.0</td>\n",
       "      <td>0.0</td>\n",
       "      <td>0.0</td>\n",
       "    </tr>\n",
       "    <tr>\n",
       "      <th>TCGA-3C-AALI-01A-11D-A41F-09</th>\n",
       "      <td>0.0</td>\n",
       "      <td>0.0</td>\n",
       "      <td>1.0</td>\n",
       "      <td>0.0</td>\n",
       "      <td>0.0</td>\n",
       "      <td>0.0</td>\n",
       "      <td>0.0</td>\n",
       "      <td>0.0</td>\n",
       "      <td>0.0</td>\n",
       "      <td>0.0</td>\n",
       "      <td>...</td>\n",
       "      <td>0.0</td>\n",
       "      <td>0.0</td>\n",
       "      <td>0.0</td>\n",
       "      <td>0.0</td>\n",
       "      <td>0.0</td>\n",
       "      <td>0.0</td>\n",
       "      <td>1.0</td>\n",
       "      <td>0.0</td>\n",
       "      <td>0.0</td>\n",
       "      <td>0.0</td>\n",
       "    </tr>\n",
       "    <tr>\n",
       "      <th>TCGA-3C-AALJ-01A-31D-A41F-09</th>\n",
       "      <td>0.0</td>\n",
       "      <td>0.0</td>\n",
       "      <td>0.0</td>\n",
       "      <td>0.0</td>\n",
       "      <td>0.0</td>\n",
       "      <td>0.0</td>\n",
       "      <td>0.0</td>\n",
       "      <td>0.0</td>\n",
       "      <td>0.0</td>\n",
       "      <td>0.0</td>\n",
       "      <td>...</td>\n",
       "      <td>0.0</td>\n",
       "      <td>0.0</td>\n",
       "      <td>0.0</td>\n",
       "      <td>0.0</td>\n",
       "      <td>0.0</td>\n",
       "      <td>0.0</td>\n",
       "      <td>0.0</td>\n",
       "      <td>0.0</td>\n",
       "      <td>0.0</td>\n",
       "      <td>0.0</td>\n",
       "    </tr>\n",
       "  </tbody>\n",
       "</table>\n",
       "<p>5 rows × 13448 columns</p>\n",
       "</div>"
      ],
      "text/plain": [
       "Hugo_Symbol                          A1BG  A1CF  A2M  A2ML1  A4GALT  AAAS  \\\n",
       "Tumor_Sample_Barcode                                                        \n",
       "358296ad-e2a7-40cd-849e-8590fd_D6_1   0.0   0.0  0.0    0.0     0.0   0.0   \n",
       "48d1b543-dbf6-4594-b34a-d0e30a_D6     0.0   0.0  0.0    0.0     0.0   0.0   \n",
       "TCGA-3C-AAAU-01A-11D-A41F-09          0.0   0.0  0.0    0.0     0.0   0.0   \n",
       "TCGA-3C-AALI-01A-11D-A41F-09          0.0   0.0  1.0    0.0     0.0   0.0   \n",
       "TCGA-3C-AALJ-01A-31D-A41F-09          0.0   0.0  0.0    0.0     0.0   0.0   \n",
       "\n",
       "Hugo_Symbol                          AACS  AADAC  AADACL2  AADACL3  ...  ZUP1  \\\n",
       "Tumor_Sample_Barcode                                                ...         \n",
       "358296ad-e2a7-40cd-849e-8590fd_D6_1   0.0    0.0      0.0      0.0  ...   0.0   \n",
       "48d1b543-dbf6-4594-b34a-d0e30a_D6     0.0    0.0      0.0      0.0  ...   0.0   \n",
       "TCGA-3C-AAAU-01A-11D-A41F-09          0.0    0.0      0.0      0.0  ...   0.0   \n",
       "TCGA-3C-AALI-01A-11D-A41F-09          0.0    0.0      0.0      0.0  ...   0.0   \n",
       "TCGA-3C-AALJ-01A-31D-A41F-09          0.0    0.0      0.0      0.0  ...   0.0   \n",
       "\n",
       "Hugo_Symbol                          ZW10  ZWILCH  ZWINT  ZXDA  ZXDB  ZXDC  \\\n",
       "Tumor_Sample_Barcode                                                         \n",
       "358296ad-e2a7-40cd-849e-8590fd_D6_1   0.0     0.0    0.0   0.0   0.0   0.0   \n",
       "48d1b543-dbf6-4594-b34a-d0e30a_D6     0.0     0.0    0.0   0.0   0.0   0.0   \n",
       "TCGA-3C-AAAU-01A-11D-A41F-09          0.0     0.0    0.0   0.0   0.0   0.0   \n",
       "TCGA-3C-AALI-01A-11D-A41F-09          0.0     0.0    0.0   0.0   0.0   1.0   \n",
       "TCGA-3C-AALJ-01A-31D-A41F-09          0.0     0.0    0.0   0.0   0.0   0.0   \n",
       "\n",
       "Hugo_Symbol                          ZYG11B  ZZEF1  ZZZ3  \n",
       "Tumor_Sample_Barcode                                      \n",
       "358296ad-e2a7-40cd-849e-8590fd_D6_1     0.0    0.0   0.0  \n",
       "48d1b543-dbf6-4594-b34a-d0e30a_D6       0.0    0.0   0.0  \n",
       "TCGA-3C-AAAU-01A-11D-A41F-09            0.0    0.0   0.0  \n",
       "TCGA-3C-AALI-01A-11D-A41F-09            0.0    0.0   0.0  \n",
       "TCGA-3C-AALJ-01A-31D-A41F-09            0.0    0.0   0.0  \n",
       "\n",
       "[5 rows x 13448 columns]"
      ]
     },
     "execution_count": 3,
     "metadata": {},
     "output_type": "execute_result"
    }
   ],
   "source": [
    "# Extract only sample–gene pairs\n",
    "sample_gene_df = maf[['Tumor_Sample_Barcode', 'Hugo_Symbol']].copy()\n",
    "\n",
    "# Standardize formatting\n",
    "sample_gene_df['Tumor_Sample_Barcode'] = sample_gene_df['Tumor_Sample_Barcode'].str.strip()\n",
    "sample_gene_df['Hugo_Symbol'] = sample_gene_df['Hugo_Symbol'].str.strip().str.upper()\n",
    "\n",
    "# Drop duplicates and assign mutation indicator\n",
    "sample_gene_df = sample_gene_df.drop_duplicates()\n",
    "sample_gene_df['Mutated'] = 1\n",
    "\n",
    "# Create mutation matrix (samples × genes)\n",
    "mutation_matrix = (\n",
    "    sample_gene_df\n",
    "    .pivot_table(index='Tumor_Sample_Barcode', \n",
    "                 columns='Hugo_Symbol', \n",
    "                 values='Mutated', \n",
    "                 fill_value=0)\n",
    ")\n",
    "\n",
    "mutation_matrix.head()\n"
   ]
  },
  {
   "cell_type": "code",
   "execution_count": 4,
   "id": "6023d7cf-c928-43e0-8dd7-7083b83b75ae",
   "metadata": {},
   "outputs": [
    {
     "data": {
      "text/html": [
       "<div>\n",
       "<style scoped>\n",
       "    .dataframe tbody tr th:only-of-type {\n",
       "        vertical-align: middle;\n",
       "    }\n",
       "\n",
       "    .dataframe tbody tr th {\n",
       "        vertical-align: top;\n",
       "    }\n",
       "\n",
       "    .dataframe thead th {\n",
       "        text-align: right;\n",
       "    }\n",
       "</style>\n",
       "<table border=\"1\" class=\"dataframe\">\n",
       "  <thead>\n",
       "    <tr style=\"text-align: right;\">\n",
       "      <th></th>\n",
       "      <th>Short_Barcode</th>\n",
       "      <th>Subtype</th>\n",
       "    </tr>\n",
       "  </thead>\n",
       "  <tbody>\n",
       "    <tr>\n",
       "      <th>0</th>\n",
       "      <td>TCGA-3C-AAAU</td>\n",
       "      <td>LumA</td>\n",
       "    </tr>\n",
       "    <tr>\n",
       "      <th>1</th>\n",
       "      <td>TCGA-3C-AALI</td>\n",
       "      <td>Her2</td>\n",
       "    </tr>\n",
       "    <tr>\n",
       "      <th>2</th>\n",
       "      <td>TCGA-3C-AALJ</td>\n",
       "      <td>LumB</td>\n",
       "    </tr>\n",
       "    <tr>\n",
       "      <th>3</th>\n",
       "      <td>TCGA-3C-AALK</td>\n",
       "      <td>LumA</td>\n",
       "    </tr>\n",
       "    <tr>\n",
       "      <th>4</th>\n",
       "      <td>TCGA-4H-AAAK</td>\n",
       "      <td>LumA</td>\n",
       "    </tr>\n",
       "  </tbody>\n",
       "</table>\n",
       "</div>"
      ],
      "text/plain": [
       "  Short_Barcode Subtype\n",
       "0  TCGA-3C-AAAU    LumA\n",
       "1  TCGA-3C-AALI    Her2\n",
       "2  TCGA-3C-AALJ    LumB\n",
       "3  TCGA-3C-AALK    LumA\n",
       "4  TCGA-4H-AAAK    LumA"
      ]
     },
     "execution_count": 4,
     "metadata": {},
     "output_type": "execute_result"
    }
   ],
   "source": [
    "# Load subtype labels\n",
    "subtypes = pd.read_csv(\"../data/tcga_brca_subtypes.csv\")\n",
    "subtypes.columns = ['Short_Barcode', 'Subtype']\n",
    "\n",
    "# Preview\n",
    "subtypes.head()"
   ]
  },
  {
   "cell_type": "code",
   "execution_count": 6,
   "id": "077196ef-0e62-4d5c-af28-d6315ebce24a",
   "metadata": {},
   "outputs": [
    {
     "name": "stdout",
     "output_type": "stream",
     "text": [
      "Hugo_Symbol          Tumor_Sample_Barcode Short_Barcode\n",
      "0            TCGA-3C-AAAU-01A-11D-A41F-09  TCGA-3C-AAAU\n",
      "1            TCGA-3C-AALI-01A-11D-A41F-09  TCGA-3C-AALI\n",
      "2            TCGA-3C-AALJ-01A-31D-A41F-09  TCGA-3C-AALJ\n",
      "3            TCGA-3C-AALK-01A-11D-A41F-09  TCGA-3C-AALK\n",
      "4            TCGA-4H-AAAK-01A-12D-A41F-09  TCGA-4H-AAAK\n"
     ]
    }
   ],
   "source": [
    "# Reset index and keep Tumor_Sample_Barcode as a column\n",
    "mutation_matrix = mutation_matrix.reset_index()\n",
    "\n",
    "# Extract short-form TCGA barcodes (e.g., TCGA-XX-XXXX)\n",
    "mutation_matrix['Short_Barcode'] = mutation_matrix['Tumor_Sample_Barcode'].str.extract(r'(^TCGA-\\w{2}-\\w{4})')\n",
    "\n",
    "# Drop rows where Short_Barcode could not be extracted (i.e., non-TCGA samples)\n",
    "mutation_matrix = mutation_matrix[mutation_matrix['Short_Barcode'].notna()]\n",
    "\n",
    "# Optional: reset index again after filtering\n",
    "mutation_matrix = mutation_matrix.reset_index(drop=True)\n",
    "\n",
    "# Confirm it worked\n",
    "print(mutation_matrix[['Tumor_Sample_Barcode', 'Short_Barcode']].head())"
   ]
  },
  {
   "cell_type": "code",
   "execution_count": 7,
   "id": "f77f01ad-9221-4f32-bf87-923e52ed60b7",
   "metadata": {},
   "outputs": [
    {
     "name": "stdout",
     "output_type": "stream",
     "text": [
      "Matching barcodes: 587 / 593\n"
     ]
    }
   ],
   "source": [
    "matching = mutation_matrix['Short_Barcode'].isin(subtypes['Short_Barcode'])\n",
    "print(\"Matching barcodes:\", matching.sum(), \"/\", len(mutation_matrix))\n",
    "\n"
   ]
  },
  {
   "cell_type": "code",
   "execution_count": 8,
   "id": "e51dbefe-8d8d-43da-bc73-fb28f250f38d",
   "metadata": {},
   "outputs": [
    {
     "name": "stdout",
     "output_type": "stream",
     "text": [
      "Subtype counts:\n",
      "Subtype\n",
      "LumA      299\n",
      "LumB      118\n",
      "Basal     106\n",
      "Her2       46\n",
      "Normal     18\n",
      "Name: count, dtype: int64\n"
     ]
    }
   ],
   "source": [
    "merged_df = pd.merge(mutation_matrix, subtypes, left_on=\"Short_Barcode\", right_on=\"Short_Barcode\", how=\"inner\")\n",
    "merged_df = merged_df.drop(columns=[\"Tumor_Sample_Barcode\", \"Short_Barcode\", \"Short_Barcode\"])\n",
    "\n",
    "print(\"Subtype counts:\")\n",
    "print(merged_df[\"Subtype\"].value_counts())\n"
   ]
  },
  {
   "cell_type": "code",
   "execution_count": 9,
   "id": "98d37c8f-b3bc-4a02-81ca-735e50c3618d",
   "metadata": {},
   "outputs": [
    {
     "name": "stdout",
     "output_type": "stream",
     "text": [
      "Training samples: 410\n",
      "Testing samples: 177\n"
     ]
    }
   ],
   "source": [
    "from sklearn.model_selection import train_test_split\n",
    "from sklearn.preprocessing import LabelEncoder\n",
    "\n",
    "# Split features and labels\n",
    "X = merged_df.drop(columns=[\"Subtype\"])\n",
    "y = merged_df[\"Subtype\"]\n",
    "\n",
    "# Encode string labels\n",
    "le = LabelEncoder()\n",
    "y_encoded = le.fit_transform(y)\n",
    "\n",
    "# Train-test split\n",
    "X_train, X_test, y_train, y_test = train_test_split(\n",
    "    X, y_encoded, test_size=0.3, stratify=y_encoded, random_state=42)\n",
    "\n",
    "print(\"Training samples:\", len(X_train))\n",
    "print(\"Testing samples:\", len(X_test))\n"
   ]
  },
  {
   "cell_type": "code",
   "execution_count": 26,
   "id": "1a62db0f-26e2-4d79-84ee-66d24b6de397",
   "metadata": {},
   "outputs": [
    {
     "name": "stdout",
     "output_type": "stream",
     "text": [
      "✅ Classification report saved to: results/05_classification_report.csv\n"
     ]
    },
    {
     "name": "stderr",
     "output_type": "stream",
     "text": [
      "/Users/aman/bioinformatics-portfolio/venv/lib/python3.13/site-packages/sklearn/metrics/_classification.py:1706: UndefinedMetricWarning: Precision is ill-defined and being set to 0.0 in labels with no predicted samples. Use `zero_division` parameter to control this behavior.\n",
      "  _warn_prf(average, modifier, f\"{metric.capitalize()} is\", result.shape[0])\n",
      "/Users/aman/bioinformatics-portfolio/venv/lib/python3.13/site-packages/sklearn/metrics/_classification.py:1706: UndefinedMetricWarning: Precision is ill-defined and being set to 0.0 in labels with no predicted samples. Use `zero_division` parameter to control this behavior.\n",
      "  _warn_prf(average, modifier, f\"{metric.capitalize()} is\", result.shape[0])\n",
      "/Users/aman/bioinformatics-portfolio/venv/lib/python3.13/site-packages/sklearn/metrics/_classification.py:1706: UndefinedMetricWarning: Precision is ill-defined and being set to 0.0 in labels with no predicted samples. Use `zero_division` parameter to control this behavior.\n",
      "  _warn_prf(average, modifier, f\"{metric.capitalize()} is\", result.shape[0])\n"
     ]
    }
   ],
   "source": [
    "from sklearn.ensemble import RandomForestClassifier\n",
    "from sklearn.metrics import classification_report\n",
    "import pandas as pd\n",
    "import os\n",
    "\n",
    "# ✅ 1. Train a model\n",
    "X = X.drop(columns=[col for col in X.columns if col.lower() in ['index', 'barcode', 'tumor_sample_barcode']], errors='ignore')\n",
    "model = RandomForestClassifier(class_weight='balanced', random_state=42)\n",
    "model.fit(X_train, y_train)\n",
    "\n",
    "# ✅ 2. Predict on test set\n",
    "y_pred = model.predict(X_test)\n",
    "\n",
    "# ✅ 3. Generate and save classification report\n",
    "report_dict = classification_report(y_test, y_pred, target_names=le.classes_, output_dict=True)\n",
    "report_df = pd.DataFrame(report_dict).transpose()\n",
    "\n",
    "# Ensure the directory exists\n",
    "os.makedirs(\"../results\", exist_ok=True)\n",
    "\n",
    "# Save report to CSV\n",
    "report_df.to_csv(\"../results/05_classification_report.csv\")\n",
    "print(\"✅ Classification report saved to: results/05_classification_report.csv\")\n"
   ]
  },
  {
   "cell_type": "code",
   "execution_count": 27,
   "id": "ce59fdf7-7a8c-4860-8e3b-63768b037d8c",
   "metadata": {},
   "outputs": [
    {
     "data": {
      "text/plain": [
       "Text(0.5, 1.0, 'Subtype Distribution')"
      ]
     },
     "execution_count": 27,
     "metadata": {},
     "output_type": "execute_result"
    },
    {
     "data": {
      "image/png": "[encoded data removed]",
      "text/plain": [
       "<Figure size 640x480 with 1 Axes>"
      ]
     },
     "metadata": {},
     "output_type": "display_data"
    }
   ],
   "source": [
    "import seaborn as sns\n",
    "sns.countplot(y)\n",
    "plt.title(\"Subtype Distribution\")"
   ]
  },
  {
   "cell_type": "code",
   "execution_count": 38,
   "id": "8fcc2599-0c43-4172-8cb3-6c2dc114b353",
   "metadata": {},
   "outputs": [
    {
     "name": "stdout",
     "output_type": "stream",
     "text": [
      "[✅] Saved: Confusion Matrix → ../figures/07-Confusion_Matrix.png\n"
     ]
    },
    {
     "data": {
      "image/png": "[encoded data removed]",
      "text/plain": [
       "<Figure size 640x480 with 2 Axes>"
      ]
     },
     "metadata": {},
     "output_type": "display_data"
    }
   ],
   "source": [
    "from sklearn.metrics import confusion_matrix, ConfusionMatrixDisplay\n",
    "\n",
    "ConfusionMatrixDisplay.from_estimator(model, X_test, y_test, display_labels=le.classes_, xticks_rotation=45)\n",
    "plt.title(\"Confusion Matrix\")\n",
    "save_plot(\"Confusion_Matrix\", step=\"07\", title=\"Confusion Matrix\")\n",
    "plt.show()\n"
   ]
  },
  {
   "cell_type": "code",
   "execution_count": 39,
   "id": "c1c46767-5d68-497f-8611-94c24639b251",
   "metadata": {},
   "outputs": [
    {
     "name": "stderr",
     "output_type": "stream",
     "text": [
      "/var/folders/dw/cp1c7tm95pldv_d3y5p478280000gn/T/ipykernel_54593/2045925435.py:15: FutureWarning: \n",
      "\n",
      "Passing `palette` without assigning `hue` is deprecated and will be removed in v0.14.0. Assign the `y` variable to `hue` and set `legend=False` for the same effect.\n",
      "\n",
      "  sns.barplot(x='Importance', y='Gene', data=feat_df, palette='mako')\n"
     ]
    },
    {
     "data": {
      "image/png": "[encoded data removed]",
      "text/plain": [
       "<Figure size 1000x600 with 1 Axes>"
      ]
     },
     "metadata": {},
     "output_type": "display_data"
    }
   ],
   "source": [
    "import pandas as pd\n",
    "import matplotlib.pyplot as plt\n",
    "import seaborn as sns\n",
    "\n",
    "# Get feature names (match to X_train)\n",
    "feature_names = X_train.columns\n",
    "importances = model.feature_importances_\n",
    "\n",
    "# Create DataFrame of gene importances\n",
    "feat_df = pd.DataFrame({'Gene': feature_names, 'Importance': importances})\n",
    "feat_df = feat_df.sort_values(by='Importance', ascending=False).head(20)\n",
    "\n",
    "# Plot\n",
    "plt.figure(figsize=(10, 6))\n",
    "sns.barplot(x='Importance', y='Gene', data=feat_df, palette='mako')\n",
    "plt.title(\"Top 20 Mutated Genes Driving Subtype Classification\", fontsize=14)\n",
    "plt.xlabel(\"Feature Importance\", fontsize=12)\n",
    "plt.ylabel(\"Gene\", fontsize=12)\n",
    "plt.tight_layout()\n",
    "plt.savefig(\"../figures/08-feature_importance.png\", dpi=300)\n",
    "plt.show()"
   ]
  }
 ],
 "metadata": {
  "kernelspec": {
   "display_name": "Python 3 (ipykernel)",
   "language": "python",
   "name": "python3"
  },
  "language_info": {
   "codemirror_mode": {
    "name": "ipython",
    "version": 3
   },
   "file_extension": ".py",
   "mimetype": "text/x-python",
   "name": "python",
   "nbconvert_exporter": "python",
   "pygments_lexer": "ipython3",
   "version": "3.13.0"
  }
 },
 "nbformat": 4,
 "nbformat_minor": 5
}
