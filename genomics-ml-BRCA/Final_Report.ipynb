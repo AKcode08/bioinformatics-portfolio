{
 "cells": [
  {
   "cell_type": "markdown",
   "id": "ed47874a",
   "metadata": {},
   "source": [
    "\n",
    "# Mutation-Based Classification of Breast Cancer Subtypes Using Machine Learning\n",
    "\n",
    "## Abstract\n",
    "\n",
    "This study explores the feasibility of classifying breast cancer subtypes using somatic mutation profiles alone. While gene expression-based models like PAM50 are widely adopted for accurate subtype classification, mutation data—being more stable and often available from clinical sequencing pipelines—offers a potentially simpler alternative. We use mutational data from the TCGA-BRCA cohort to train machine learning models and assess their performance in identifying the five main subtypes: LumA, LumB, Basal, Her2, and Normal.\n",
    "\n",
    "## Background\n",
    "\n",
    "Breast cancer is a heterogeneous disease, commonly classified into subtypes with distinct clinical outcomes and therapeutic responses. PAM50 is a gene expression-based signature that classifies tumors into intrinsic subtypes. While effective, transcriptomic profiling may not always be feasible. This project investigates whether somatic mutation data alone contains enough signal to approximate this classification task, using machine learning techniques.\n",
    "\n",
    "## Objective\n",
    "\n",
    "To evaluate whether somatic mutation profiles from the TCGA-BRCA cohort can be used to classify PAM50-defined breast cancer subtypes, and to identify the limitations of using mutation data alone in this context.\n"
   ]
  },
  {
   "cell_type": "markdown",
   "id": "f06f0864",
   "metadata": {},
   "source": [
    "\n",
    "## Tumor Mutation Burden\n",
    "\n",
    "I began by calculating the number of somatic mutations per sample to understand the distribution of mutation burden across the cohort. Samples were sorted in descending order, and the top 30 were visualized.\n",
    "\n",
    "<div align=\"center\">\n",
    "    <img src=\"figures/01-tmb_per_sample_top30.png\" width=\"70%\">\n",
    "</div>"
   ]
  },
  {
   "cell_type": "markdown",
   "id": "986bc9c8",
   "metadata": {},
   "source": [
    "\n",
    "## Mutation Type Distribution\n",
    "\n",
    "We generated a heatmap showing the distribution of variant classifications (e.g., Missense, Nonsense mutations) across the top 30 most mutated samples.\n",
    "\n",
    "<div align=\"center\">\n",
    "    <img src=\"figures/04-Mutation_Types_Top30.png\" width=\"70%\">\n",
    "</div>\n",
    "\n",
    "Certain samples had a dominant mutation type, primarily missense mutations. \n"
   ]
  },
  {
   "cell_type": "markdown",
   "id": "d1561e54-8efb-4d40-8583-16d5293c6108",
   "metadata": {},
   "source": [
    "\n",
    "## Top Mutated Driver Genes\n",
    "\n",
    "To highlight the most frequently mutated oncogenic drivers in the TCGA-BRCA cohort, we filtered genes using the OncoKB cancer gene list and ranked them by mutation frequency. This approach identifies biologically significant mutations that may not necessarily contribute to subtype classification but are key in tumorigenesis.\n",
    "\n",
    "<div align=\"center\">\n",
    "    <img src=\"figures/05-top_driver_genes_oncokb.png\" width=\"70%\">\n",
    "</div>\n",
    "\n",
    "The most frequently mutated driver genes were **PIK3CA**, **TP53**, and **CDH1**, all of which are well-established breast cancer drivers. PIK3CA mutations are common in LumA and LumB subtypes, whereas TP53 is frequently mutated in Basal-like tumors. This figure underscores the biological relevance of these mutations, even if they don't provide strong subtype-specific classification signals in isolation.\n"
   ]
  },
  {
   "cell_type": "markdown",
   "id": "2edea454-eeec-45dc-8ea3-f3f08598b885",
   "metadata": {},
   "source": [
    "## Pathway Enrichment Analysis\n",
    "\n",
    "To interpret the biological relevance of the top subtype-predictive genes, we performed a pathway enrichment analysis. The goal was to identify overrepresented biological processes and signaling pathways among the most important mutated genes.\n",
    "\n",
    "The most significantly enriched terms were related to phosphorylation processes, protein modifications, and cellular signaling—hallmarks of cancer progression and oncogenesis.\n",
    "\n",
    "<table>\n",
    "  <thead>\n",
    "    <tr>\n",
    "      <th>Term</th>\n",
    "      <th>Overlap</th>\n",
    "      <th>Adjusted P-value</th>\n",
    "    </tr>\n",
    "  </thead>\n",
    "  <tbody>\n",
    "    <tr><td>protein phosphorylation (GO:0006468)</td><td>419/496</td><td>5.70 × 10⁻¹⁵</td></tr>\n",
    "    <tr><td>phosphorylation (GO:0016310)</td><td>339/400</td><td>2.27 × 10⁻¹²</td></tr>\n",
    "    <tr><td>protein autophosphorylation (GO:0046777)</td><td>148/159</td><td>8.09 × 10⁻¹²</td></tr>\n",
    "    <tr><td>cellular protein modification process (GO:0006464)</td><td>787/1025</td><td>6.17 × 10⁻⁹</td></tr>\n",
    "    <tr><td>neuron projection morphogenesis (GO:0048812)</td><td>128/140</td><td>1.25 × 10⁻⁸</td></tr>\n",
    "    <tr><td>axonogenesis (GO:0007409)</td><td>206/240</td><td>3.03 × 10⁻⁸</td></tr>\n",
    "    <tr><td>extracellular structure organization (GO:0043062)</td><td>186/216</td><td>1.30 × 10⁻⁷</td></tr>\n",
    "    <tr><td><strong>ECM-receptor interaction (KEGG)</strong></td><td>84/88</td><td>2.93 × 10⁻⁸</td></tr>\n",
    "    <tr><td><strong>Human papillomavirus infection (KEGG)</strong></td><td>271/331</td><td>2.21 × 10⁻⁷</td></tr>\n",
    "    <tr><td><strong>Focal adhesion (KEGG)</strong></td><td>172/201</td><td>2.29 × 10⁻⁷</td></tr>\n",
    "  </tbody>\n",
    "</table>\n",
    "\n",
    "These results suggest that genes involved in phosphorylation signaling and structural cell–matrix interactions (e.g., focal adhesion, ECM-receptor interaction) are heavily implicated in the mutational landscape of breast cancer. While not subtype-specific, these enriched pathways reinforce the functional importance of the identified gene set in cancer biology."
   ]
  },
  {
   "cell_type": "markdown",
   "id": "b791de33",
   "metadata": {},
   "source": [
    "\n",
    "## Subtype Classification Performance\n",
    "\n",
    "We trained a Random Forest classifier using binary-encoded mutation presence data as input features and PAM50 subtypes as labels. Despite balancing class weights, classification performance was limited.\n",
    "\n",
    "The model was only able to classify the LumA subtype with high recall. All other subtypes, particularly Her2, LumB, and Normal, showed very low precision and recall.\n",
    "\n",
    "## Classification Report\n",
    "\n",
    "<table>\n",
    "  <thead>\n",
    "    <tr>\n",
    "      <th>Label</th>\n",
    "      <th>Precision</th>\n",
    "      <th>Recall</th>\n",
    "      <th>F1-Score</th>\n",
    "      <th>Support</th>\n",
    "    </tr>\n",
    "  </thead>\n",
    "  <tbody>\n",
    "    <tr><td>Basal</td><td>0.720</td><td>0.5625</td><td>0.632</td><td>32</td></tr>\n",
    "    <tr><td>Her2</td><td>0.000</td><td>0.0000</td><td>0.000</td><td>14</td></tr>\n",
    "    <tr><td>LumA</td><td>0.581</td><td>0.9556</td><td>0.723</td><td>90</td></tr>\n",
    "    <tr><td>LumB</td><td>0.000</td><td>0.0000</td><td>0.000</td><td>36</td></tr>\n",
    "    <tr><td>Normal</td><td>0.000</td><td>0.0000</td><td>0.000</td><td>5</td></tr>\n",
    "    <tr><td><strong>Accuracy</strong></td><td colspan=\"4\">0.588</td></tr>\n",
    "    <tr><td><strong>Macro Avg</strong></td><td>0.260</td><td>0.304</td><td>0.271</td><td>177</td></tr>\n",
    "    <tr><td><strong>Weighted Avg</strong></td><td>0.426</td><td>0.588</td><td>0.482</td><td>177</td></tr>\n",
    "  </tbody>\n",
    "</table>\n",
    "\n",
    "The results demonstrate that mutation profiles do not carry sufficient discriminatory power to reliably predict breast cancer subtypes.\n"
   ]
  },
  {
   "cell_type": "markdown",
   "id": "d2001552",
   "metadata": {},
   "source": [
    "\n",
    "## Feature Importance\n",
    "\n",
    "The 20 most informative genes according to the trained classifier were extracted and plotted based on feature importance scores.\n",
    "\n",
    "<div align=\"center\">\n",
    "    <img src=\"figures/08-feature_importance.png\" width=\"70%\">\n",
    "</div>\n",
    "\n",
    "Many of the top-ranked genes, such as TP53 and PIK3CA, are well-known cancer drivers but are not uniquely associated with specific subtypes. This reflects the model’s reliance on broadly mutated genes rather than subtype-defining features.\n"
   ]
  },
  {
   "cell_type": "markdown",
   "id": "2477df17",
   "metadata": {},
   "source": [
    "\n",
    "## Discussion\n",
    "\n",
    "This project demonstrates that somatic mutation data alone is insufficient for accurate classification of breast cancer subtypes. While LumA showed some separation, the model failed to generalize across the remaining classes. This is consistent with biological understanding: subtypes are largely defined by gene expression programs, not mutational profiles. Additionally, the sparseness of mutation data—many tumors share similar driver mutations—limits the resolution needed for multi-class classification.\n",
    "\n",
    "## Limitations\n",
    "\n",
    "- No gene expression data was used to compare against a known subtype-defining signature like PAM50.\n",
    "- Only a Random Forest model was tested; no additional classifiers or ensemble methods were explored.\n",
    "- Subtypes with low sample sizes (Her2, Normal) suffered from class imbalance despite the use of weighted training.\n",
    "\n",
    "## Future Directions\n",
    "\n",
    "- Integrate transcriptomic data (e.g., RNA-seq, PAM50 genes) to improve subtype classification.\n",
    "- Explore pathway-level mutation aggregation to reduce sparsity.\n",
    "- Evaluate other models such as XGBoost, SVM, or deep learning architectures.\n",
    "- Apply interpretability tools like SHAP for better insight into classifier decision-making.\n",
    "\n",
    "## References\n",
    "\n",
    "- TCGA Research Network. (2012). Comprehensive molecular portraits of human breast tumors. *Nature*, 490(7418), 61–70.\n",
    "- Parker, J. S., et al. (2009). Supervised risk predictor of breast cancer based on intrinsic subtypes. *Journal of Clinical Oncology*, 27(8), 1160–1167.\n",
    "- Data Source: https://portal.gdc.cancer.gov/projects/TCGA-BRCA\n"
   ]
  }
 ],
 "metadata": {
  "kernelspec": {
   "display_name": "Python 3 (ipykernel)",
   "language": "python",
   "name": "python3"
  },
  "language_info": {
   "codemirror_mode": {
    "name": "ipython",
    "version": 3
   },
   "file_extension": ".py",
   "mimetype": "text/x-python",
   "name": "python",
   "nbconvert_exporter": "python",
   "pygments_lexer": "ipython3",
   "version": "3.13.0"
  }
 },
 "nbformat": 4,
 "nbformat_minor": 5
}
