{
 "cells": [
  {
   "cell_type": "code",
   "execution_count": 14,
   "id": "2cabc2fb-238f-4fd5-b0ba-eaaf4dcdec44",
   "metadata": {},
   "outputs": [],
   "source": [
    "import pandas as pd\n",
    "import numpy as np\n",
    "import matplotlib.pyplot as plt\n",
    "import seaborn as sns\n",
    "\n",
    "# Display settings\n",
    "pd.set_option('display.max_columns', 100)\n",
    "sns.set(style='whitegrid')"
   ]
  },
  {
   "cell_type": "code",
   "execution_count": 15,
   "id": "0179d386-669a-4507-ae8f-f2ef3f65aefd",
   "metadata": {},
   "outputs": [
    {
     "name": "stdout",
     "output_type": "stream",
     "text": [
      "Expression shape: (20530, 1218)\n"
     ]
    },
    {
     "data": {
      "text/html": [
       "<div>\n",
       "<style scoped>\n",
       "    .dataframe tbody tr th:only-of-type {\n",
       "        vertical-align: middle;\n",
       "    }\n",
       "\n",
       "    .dataframe tbody tr th {\n",
       "        vertical-align: top;\n",
       "    }\n",
       "\n",
       "    .dataframe thead th {\n",
       "        text-align: right;\n",
       "    }\n",
       "</style>\n",
       "<table border=\"1\" class=\"dataframe\">\n",
       "  <thead>\n",
       "    <tr style=\"text-align: right;\">\n",
       "      <th></th>\n",
       "      <th>TCGA-AR-A5QQ-01</th>\n",
       "      <th>TCGA-D8-A1JA-01</th>\n",
       "      <th>TCGA-BH-A0BQ-01</th>\n",
       "      <th>TCGA-BH-A0BT-01</th>\n",
       "      <th>TCGA-A8-A06X-01</th>\n",
       "    </tr>\n",
       "    <tr>\n",
       "      <th>sample</th>\n",
       "      <th></th>\n",
       "      <th></th>\n",
       "      <th></th>\n",
       "      <th></th>\n",
       "      <th></th>\n",
       "    </tr>\n",
       "  </thead>\n",
       "  <tbody>\n",
       "    <tr>\n",
       "      <th>ARHGEF10L</th>\n",
       "      <td>9.5074</td>\n",
       "      <td>7.4346</td>\n",
       "      <td>9.3216</td>\n",
       "      <td>9.0198</td>\n",
       "      <td>9.6417</td>\n",
       "    </tr>\n",
       "    <tr>\n",
       "      <th>HIF3A</th>\n",
       "      <td>1.5787</td>\n",
       "      <td>3.6607</td>\n",
       "      <td>2.7224</td>\n",
       "      <td>1.3414</td>\n",
       "      <td>0.5819</td>\n",
       "    </tr>\n",
       "    <tr>\n",
       "      <th>RNF17</th>\n",
       "      <td>0.0000</td>\n",
       "      <td>0.6245</td>\n",
       "      <td>0.5526</td>\n",
       "      <td>0.0000</td>\n",
       "      <td>0.0000</td>\n",
       "    </tr>\n",
       "    <tr>\n",
       "      <th>RNF10</th>\n",
       "      <td>11.3676</td>\n",
       "      <td>11.9181</td>\n",
       "      <td>11.9665</td>\n",
       "      <td>13.1881</td>\n",
       "      <td>12.0036</td>\n",
       "    </tr>\n",
       "    <tr>\n",
       "      <th>RNF11</th>\n",
       "      <td>11.1292</td>\n",
       "      <td>13.5273</td>\n",
       "      <td>11.4105</td>\n",
       "      <td>11.0911</td>\n",
       "      <td>11.2545</td>\n",
       "    </tr>\n",
       "  </tbody>\n",
       "</table>\n",
       "</div>"
      ],
      "text/plain": [
       "           TCGA-AR-A5QQ-01  TCGA-D8-A1JA-01  TCGA-BH-A0BQ-01  TCGA-BH-A0BT-01  \\\n",
       "sample                                                                          \n",
       "ARHGEF10L           9.5074           7.4346           9.3216           9.0198   \n",
       "HIF3A               1.5787           3.6607           2.7224           1.3414   \n",
       "RNF17               0.0000           0.6245           0.5526           0.0000   \n",
       "RNF10              11.3676          11.9181          11.9665          13.1881   \n",
       "RNF11              11.1292          13.5273          11.4105          11.0911   \n",
       "\n",
       "           TCGA-A8-A06X-01  \n",
       "sample                      \n",
       "ARHGEF10L           9.6417  \n",
       "HIF3A               0.5819  \n",
       "RNF17               0.0000  \n",
       "RNF10              12.0036  \n",
       "RNF11              11.2545  "
      ]
     },
     "execution_count": 15,
     "metadata": {},
     "output_type": "execute_result"
    }
   ],
   "source": [
    "# Load the unzipped expression file\n",
    "expr = pd.read_csv('../data/TCGA-BRCA.expression.tsv', sep='\\t', index_col=0)\n",
    "\n",
    "print(\"Expression shape:\", expr.shape)\n",
    "expr.iloc[:5, :5]  # preview"
   ]
  },
  {
   "cell_type": "code",
   "execution_count": 16,
   "id": "9cae75c3-f4cd-4c97-b00e-58a49ba2fe35",
   "metadata": {},
   "outputs": [
    {
     "name": "stdout",
     "output_type": "stream",
     "text": [
      "Clinical shape: (1236, 10)\n"
     ]
    },
    {
     "data": {
      "text/html": [
       "<div>\n",
       "<style scoped>\n",
       "    .dataframe tbody tr th:only-of-type {\n",
       "        vertical-align: middle;\n",
       "    }\n",
       "\n",
       "    .dataframe tbody tr th {\n",
       "        vertical-align: top;\n",
       "    }\n",
       "\n",
       "    .dataframe thead th {\n",
       "        text-align: right;\n",
       "    }\n",
       "</style>\n",
       "<table border=\"1\" class=\"dataframe\">\n",
       "  <thead>\n",
       "    <tr style=\"text-align: right;\">\n",
       "      <th></th>\n",
       "      <th>OS.time</th>\n",
       "      <th>OS</th>\n",
       "    </tr>\n",
       "    <tr>\n",
       "      <th>sample</th>\n",
       "      <th></th>\n",
       "      <th></th>\n",
       "    </tr>\n",
       "  </thead>\n",
       "  <tbody>\n",
       "    <tr>\n",
       "      <th>TCGA-3C-AAAU-01</th>\n",
       "      <td>4047.0</td>\n",
       "      <td>0</td>\n",
       "    </tr>\n",
       "    <tr>\n",
       "      <th>TCGA-3C-AALI-01</th>\n",
       "      <td>4005.0</td>\n",
       "      <td>0</td>\n",
       "    </tr>\n",
       "    <tr>\n",
       "      <th>TCGA-3C-AALJ-01</th>\n",
       "      <td>1474.0</td>\n",
       "      <td>0</td>\n",
       "    </tr>\n",
       "    <tr>\n",
       "      <th>TCGA-3C-AALK-01</th>\n",
       "      <td>1448.0</td>\n",
       "      <td>0</td>\n",
       "    </tr>\n",
       "    <tr>\n",
       "      <th>TCGA-4H-AAAK-01</th>\n",
       "      <td>348.0</td>\n",
       "      <td>0</td>\n",
       "    </tr>\n",
       "  </tbody>\n",
       "</table>\n",
       "</div>"
      ],
      "text/plain": [
       "                 OS.time  OS\n",
       "sample                      \n",
       "TCGA-3C-AAAU-01   4047.0   0\n",
       "TCGA-3C-AALI-01   4005.0   0\n",
       "TCGA-3C-AALJ-01   1474.0   0\n",
       "TCGA-3C-AALK-01   1448.0   0\n",
       "TCGA-4H-AAAK-01    348.0   0"
      ]
     },
     "execution_count": 16,
     "metadata": {},
     "output_type": "execute_result"
    }
   ],
   "source": [
    "# Load survival metadata\n",
    "clin = pd.read_csv('../data/TCGA-CDR.survival.txt', sep='\\t', index_col=0)\n",
    "\n",
    "print(\"Clinical shape:\", clin.shape)\n",
    "clin[['OS.time', 'OS']].dropna().head()"
   ]
  },
  {
   "cell_type": "code",
   "execution_count": 17,
   "id": "64cd0e67-f571-4fd8-900b-3ce7e13f8706",
   "metadata": {},
   "outputs": [
    {
     "name": "stdout",
     "output_type": "stream",
     "text": [
      "Expression sample IDs:\n",
      "['TCGA-AR-A5QQ-01', 'TCGA-D8-A1JA-01', 'TCGA-BH-A0BQ-01', 'TCGA-BH-A0BT-01', 'TCGA-A8-A06X-01']\n",
      "\n",
      "Clinical sample IDs:\n",
      "['TCGA-3C-AAAU-01', 'TCGA-3C-AALI-01', 'TCGA-3C-AALJ-01', 'TCGA-3C-AALK-01', 'TCGA-4H-AAAK-01']\n"
     ]
    }
   ],
   "source": [
    "print(\"Expression sample IDs:\")\n",
    "print(expr.columns[:5].tolist())\n",
    "\n",
    "print(\"\\nClinical sample IDs:\")\n",
    "print(clin.index[:5].tolist())"
   ]
  },
  {
   "cell_type": "code",
   "execution_count": 18,
   "id": "a9f5dfa0-6c28-433b-b2e9-1441c8cc4e20",
   "metadata": {},
   "outputs": [
    {
     "name": "stdout",
     "output_type": "stream",
     "text": [
      "Filtered clinical shape (BRCA only): (889, 10)\n"
     ]
    }
   ],
   "source": [
    "# Keep only BRCA patients (prefix filter)\n",
    "clin_brca = clin[clin.index.str.startswith(('TCGA-A', 'TCGA-B', 'TCGA-C', 'TCGA-D'))]\n",
    "\n",
    "print(\"Filtered clinical shape (BRCA only):\", clin_brca.shape)\n"
   ]
  },
  {
   "cell_type": "code",
   "execution_count": 19,
   "id": "96a73b19-7020-437f-9807-16314e134e29",
   "metadata": {},
   "outputs": [],
   "source": [
    "# Rename survival columns for clarity\n",
    "clin_brca = clin_brca.rename(columns={'OS.time': 'time', 'OS': 'status'})"
   ]
  },
  {
   "cell_type": "code",
   "execution_count": 20,
   "id": "1c9f62c3-7267-4343-9c80-351cfe03bad9",
   "metadata": {},
   "outputs": [],
   "source": [
    "# Drop duplicated sample IDs (if any) in both datasets\n",
    "expr = expr.loc[:, ~expr.columns.duplicated()]\n",
    "clin_brca = clin_brca[~clin_brca.index.duplicated(keep='first')]"
   ]
  },
  {
   "cell_type": "code",
   "execution_count": 21,
   "id": "a3dbd1dd-37a7-4549-9ab9-03f2017bf8a9",
   "metadata": {},
   "outputs": [
    {
     "name": "stdout",
     "output_type": "stream",
     "text": [
      "Number of matched BRCA samples: 877\n",
      "✅ Final Expression shape: (20530, 877)\n",
      "✅ Final Survival shape: (877, 2)\n",
      "✅ Survival columns: ['time', 'status']\n"
     ]
    }
   ],
   "source": [
    "# Get intersecting sample IDs and align datasets\n",
    "common_ids = expr.columns.intersection(clin_brca.index)\n",
    "print(\"Number of matched BRCA samples:\", len(common_ids))\n",
    "\n",
    "# Keep only essential survival columns before subsetting\n",
    "clin_brca = clin_brca[['time', 'status']]\n",
    "\n",
    "# Subset both datasets (order matters for Cox regression)\n",
    "expr = expr[common_ids]\n",
    "clin_brca = clin_brca.loc[common_ids]\n",
    "\n",
    "print(\"✅ Final Expression shape:\", expr.shape)\n",
    "print(\"✅ Final Survival shape:\", clin_brca.shape)\n",
    "print(\"✅ Survival columns:\", clin_brca.columns.tolist())"
   ]
  },
  {
   "cell_type": "code",
   "execution_count": 22,
   "id": "4988104c-08cf-4efd-b924-c827797fc1ac",
   "metadata": {},
   "outputs": [
    {
     "name": "stdout",
     "output_type": "stream",
     "text": [
      "Missing survival data:\n",
      "time      0\n",
      "status    0\n",
      "dtype: int64\n"
     ]
    }
   ],
   "source": [
    "# Check for missing survival data\n",
    "print(\"Missing survival data:\")\n",
    "print(clin_brca[['time', 'status']].isnull().sum())\n",
    "\n",
    "# Remove samples with missing survival data\n",
    "clin_brca = clin_brca.dropna(subset=['time', 'status'])"
   ]
  },
  {
   "cell_type": "code",
   "execution_count": 23,
   "id": "6a832f4c-bad9-4832-8a54-e0172ab8d05f",
   "metadata": {},
   "outputs": [
    {
     "name": "stdout",
     "output_type": "stream",
     "text": [
      "Survival status distribution: status\n",
      "0    705\n",
      "1    172\n",
      "Name: count, dtype: int64\n",
      "Survival time range: 0.0 - 8605.0\n"
     ]
    }
   ],
   "source": [
    "# Validate survival data\n",
    "print(f\"Survival status distribution: {clin_brca['status'].value_counts()}\")\n",
    "print(f\"Survival time range: {clin_brca['time'].min():.1f} - {clin_brca['time'].max():.1f}\")"
   ]
  },
  {
   "cell_type": "code",
   "execution_count": 24,
   "id": "979ab033-ddea-4a47-88b0-f0b7b4b25a01",
   "metadata": {},
   "outputs": [],
   "source": [
    "expr.to_csv('../data/processed_expression.tsv', sep='\\t')\n",
    "clin_brca.to_csv('../data/processed_clinical.tsv', sep='\\t')"
   ]
  },
  {
   "cell_type": "code",
   "execution_count": null,
   "id": "e708a524-c83b-425c-a3ef-ec7610866697",
   "metadata": {},
   "outputs": [],
   "source": []
  }
 ],
 "metadata": {
  "kernelspec": {
   "display_name": "Python 3 (ipykernel)",
   "language": "python",
   "name": "python3"
  },
  "language_info": {
   "codemirror_mode": {
    "name": "ipython",
    "version": 3
   },
   "file_extension": ".py",
   "mimetype": "text/x-python",
   "name": "python",
   "nbconvert_exporter": "python",
   "pygments_lexer": "ipython3",
   "version": "3.13.0"
  }
 },
 "nbformat": 4,
 "nbformat_minor": 5
}
